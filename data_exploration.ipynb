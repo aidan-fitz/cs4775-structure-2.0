{
 "metadata": {
  "language_info": {
   "codemirror_mode": {
    "name": "ipython",
    "version": 3
   },
   "file_extension": ".py",
   "mimetype": "text/x-python",
   "name": "python",
   "nbconvert_exporter": "python",
   "pygments_lexer": "ipython3",
   "version": "3.8.6-final"
  },
  "orig_nbformat": 2,
  "kernelspec": {
   "name": "python3",
   "display_name": "Python 3.8.6 64-bit",
   "metadata": {
    "interpreter": {
     "hash": "767d51c1340bd893661ea55ea3124f6de3c7a262a8b4abca0554b478b1e2ff90"
    }
   }
  }
 },
 "nbformat": 4,
 "nbformat_minor": 2,
 "cells": [
  {
   "cell_type": "code",
   "execution_count": 1,
   "metadata": {},
   "outputs": [
    {
     "output_type": "stream",
     "name": "stdout",
     "text": [
      "Collecting PyVCF\n",
      "  Downloading PyVCF-0.6.8.tar.gz (34 kB)\n",
      "Requirement already satisfied: setuptools in /usr/lib/python3/dist-packages (from PyVCF) (49.3.1)\n",
      "Building wheels for collected packages: PyVCF\n",
      "  Building wheel for PyVCF (setup.py) ... \u001b[?25ldone\n",
      "\u001b[?25h  Created wheel for PyVCF: filename=PyVCF-0.6.8-py3-none-any.whl size=36007 sha256=4972aab1a9ca58080680037fbe957781d9882e9b08f4717cd455a042d9131bab\n",
      "  Stored in directory: /home/eevee/.cache/pip/wheels/f0/3e/15/c1865f9a071eacc7fc702e9c7d25fc752fe5e30a82d0dd405d\n",
      "Successfully built PyVCF\n",
      "Installing collected packages: PyVCF\n",
      "Successfully installed PyVCF-0.6.8\n"
     ]
    }
   ],
   "source": [
    "!pip install PyVCF"
   ]
  },
  {
   "cell_type": "code",
   "execution_count": 1,
   "metadata": {},
   "outputs": [],
   "source": [
    "import vcf"
   ]
  },
  {
   "cell_type": "code",
   "execution_count": 2,
   "metadata": {
    "tags": []
   },
   "outputs": [
    {
     "output_type": "stream",
     "name": "stdout",
     "text": [
      "1042\n"
     ]
    }
   ],
   "source": [
    "with open(\"data/1.1-200000.ALL.chr1_GRCh38.genotypes.20170504.vcf\", \"r\") as f:\n",
    "    vcf_reader = vcf.Reader(f)\n",
    "    vcf_records = list(vcf_reader)\n",
    "    print(len(vcf_records))"
   ]
  },
  {
   "cell_type": "code",
   "execution_count": 11,
   "metadata": {
    "tags": []
   },
   "outputs": [],
   "source": [
    "record0 = vcf_records[0]"
   ]
  },
  {
   "cell_type": "code",
   "execution_count": 3,
   "metadata": {},
   "outputs": [
    {
     "output_type": "execute_result",
     "data": {
      "text/plain": [
       "'A'"
      ]
     },
     "metadata": {},
     "execution_count": 3
    }
   ],
   "source": [
    "vcf_records[0].REF"
   ]
  },
  {
   "cell_type": "code",
   "execution_count": 8,
   "metadata": {},
   "outputs": [
    {
     "output_type": "execute_result",
     "data": {
      "text/plain": [
       "['A', T, G]"
      ]
     },
     "metadata": {},
     "execution_count": 8
    }
   ],
   "source": [
    "vcf_records[58].alleles"
   ]
  },
  {
   "cell_type": "code",
   "execution_count": 7,
   "metadata": {},
   "outputs": [
    {
     "output_type": "execute_result",
     "data": {
      "text/plain": [
       "str"
      ]
     },
     "metadata": {},
     "execution_count": 7
    }
   ],
   "source": [
    "type(alleles[0])"
   ]
  },
  {
   "cell_type": "code",
   "execution_count": 17,
   "metadata": {},
   "outputs": [
    {
     "output_type": "execute_result",
     "data": {
      "text/plain": [
       "OrderedDict()"
      ]
     },
     "metadata": {},
     "execution_count": 17
    }
   ],
   "source": [
    "vcf_reader.alts"
   ]
  }
 ]
}